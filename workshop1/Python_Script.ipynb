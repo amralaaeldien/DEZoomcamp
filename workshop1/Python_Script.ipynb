{
 "cells": [
  {
   "cell_type": "code",
   "execution_count": 3,
   "id": "16ed10b2-9877-4b7c-a463-e0fa92631275",
   "metadata": {},
   "outputs": [
    {
     "name": "stdout",
     "output_type": "stream",
     "text": [
      "Requirement already satisfied: dlt[duckdb] in ./env/lib/python3.12/site-packages (1.6.1)\n",
      "Requirement already satisfied: PyYAML>=5.4.1 in ./env/lib/python3.12/site-packages (from dlt[duckdb]) (6.0.2)\n",
      "Requirement already satisfied: click>=7.1 in ./env/lib/python3.12/site-packages (from dlt[duckdb]) (8.1.8)\n",
      "Requirement already satisfied: duckdb>=0.9 in ./env/lib/python3.12/site-packages (from dlt[duckdb]) (1.2.0)\n",
      "Requirement already satisfied: fsspec>=2022.4.0 in ./env/lib/python3.12/site-packages (from dlt[duckdb]) (2025.2.0)\n",
      "Requirement already satisfied: gitpython>=3.1.29 in ./env/lib/python3.12/site-packages (from dlt[duckdb]) (3.1.44)\n",
      "Requirement already satisfied: giturlparse>=0.10.0 in ./env/lib/python3.12/site-packages (from dlt[duckdb]) (0.12.0)\n",
      "Requirement already satisfied: hexbytes>=0.2.2 in ./env/lib/python3.12/site-packages (from dlt[duckdb]) (1.3.0)\n",
      "Requirement already satisfied: humanize>=4.4.0 in ./env/lib/python3.12/site-packages (from dlt[duckdb]) (4.11.0)\n",
      "Requirement already satisfied: jsonpath-ng>=1.5.3 in ./env/lib/python3.12/site-packages (from dlt[duckdb]) (1.7.0)\n",
      "Requirement already satisfied: makefun>=1.15.0 in ./env/lib/python3.12/site-packages (from dlt[duckdb]) (1.15.6)\n",
      "Requirement already satisfied: orjson!=3.10.1,!=3.9.11,!=3.9.12,!=3.9.13,!=3.9.14,<4,>=3.6.7 in ./env/lib/python3.12/site-packages (from dlt[duckdb]) (3.10.15)\n",
      "Requirement already satisfied: packaging>=21.1 in ./env/lib/python3.12/site-packages (from dlt[duckdb]) (24.2)\n",
      "Requirement already satisfied: pathvalidate>=2.5.2 in ./env/lib/python3.12/site-packages (from dlt[duckdb]) (3.2.3)\n",
      "Requirement already satisfied: pendulum>=2.1.2 in ./env/lib/python3.12/site-packages (from dlt[duckdb]) (3.0.0)\n",
      "Requirement already satisfied: pluggy>=1.3.0 in ./env/lib/python3.12/site-packages (from dlt[duckdb]) (1.5.0)\n",
      "Requirement already satisfied: pytz>=2022.6 in ./env/lib/python3.12/site-packages (from dlt[duckdb]) (2025.1)\n",
      "Requirement already satisfied: requests>=2.26.0 in ./env/lib/python3.12/site-packages (from dlt[duckdb]) (2.32.3)\n",
      "Requirement already satisfied: requirements-parser>=0.5.0 in ./env/lib/python3.12/site-packages (from dlt[duckdb]) (0.11.0)\n",
      "Requirement already satisfied: rich-argparse<2.0.0,>=1.6.0 in ./env/lib/python3.12/site-packages (from dlt[duckdb]) (1.7.0)\n",
      "Requirement already satisfied: semver>=3.0.0 in ./env/lib/python3.12/site-packages (from dlt[duckdb]) (3.0.4)\n",
      "Requirement already satisfied: setuptools>=65.6.0 in ./env/lib/python3.12/site-packages (from dlt[duckdb]) (75.8.0)\n",
      "Requirement already satisfied: simplejson>=3.17.5 in ./env/lib/python3.12/site-packages (from dlt[duckdb]) (3.19.3)\n",
      "Requirement already satisfied: tenacity>=8.0.2 in ./env/lib/python3.12/site-packages (from dlt[duckdb]) (9.0.0)\n",
      "Requirement already satisfied: tomlkit>=0.11.3 in ./env/lib/python3.12/site-packages (from dlt[duckdb]) (0.13.2)\n",
      "Requirement already satisfied: typing-extensions>=4.8.0 in ./env/lib/python3.12/site-packages (from dlt[duckdb]) (4.12.2)\n",
      "Requirement already satisfied: tzdata>=2022.1 in ./env/lib/python3.12/site-packages (from dlt[duckdb]) (2025.1)\n",
      "Requirement already satisfied: gitdb<5,>=4.0.1 in ./env/lib/python3.12/site-packages (from gitpython>=3.1.29->dlt[duckdb]) (4.0.12)\n",
      "Requirement already satisfied: ply in ./env/lib/python3.12/site-packages (from jsonpath-ng>=1.5.3->dlt[duckdb]) (3.11)\n",
      "Requirement already satisfied: python-dateutil>=2.6 in ./env/lib/python3.12/site-packages (from pendulum>=2.1.2->dlt[duckdb]) (2.9.0.post0)\n",
      "Requirement already satisfied: time-machine>=2.6.0 in ./env/lib/python3.12/site-packages (from pendulum>=2.1.2->dlt[duckdb]) (2.16.0)\n",
      "Requirement already satisfied: charset-normalizer<4,>=2 in ./env/lib/python3.12/site-packages (from requests>=2.26.0->dlt[duckdb]) (3.4.1)\n",
      "Requirement already satisfied: idna<4,>=2.5 in ./env/lib/python3.12/site-packages (from requests>=2.26.0->dlt[duckdb]) (3.10)\n",
      "Requirement already satisfied: urllib3<3,>=1.21.1 in ./env/lib/python3.12/site-packages (from requests>=2.26.0->dlt[duckdb]) (2.3.0)\n",
      "Requirement already satisfied: certifi>=2017.4.17 in ./env/lib/python3.12/site-packages (from requests>=2.26.0->dlt[duckdb]) (2025.1.31)\n",
      "Requirement already satisfied: types-setuptools>=69.1.0 in ./env/lib/python3.12/site-packages (from requirements-parser>=0.5.0->dlt[duckdb]) (75.8.0.20250210)\n",
      "Requirement already satisfied: rich>=11.0.0 in ./env/lib/python3.12/site-packages (from rich-argparse<2.0.0,>=1.6.0->dlt[duckdb]) (13.9.4)\n",
      "Requirement already satisfied: smmap<6,>=3.0.1 in ./env/lib/python3.12/site-packages (from gitdb<5,>=4.0.1->gitpython>=3.1.29->dlt[duckdb]) (5.0.2)\n",
      "Requirement already satisfied: six>=1.5 in ./env/lib/python3.12/site-packages (from python-dateutil>=2.6->pendulum>=2.1.2->dlt[duckdb]) (1.17.0)\n",
      "Requirement already satisfied: markdown-it-py>=2.2.0 in ./env/lib/python3.12/site-packages (from rich>=11.0.0->rich-argparse<2.0.0,>=1.6.0->dlt[duckdb]) (3.0.0)\n",
      "Requirement already satisfied: pygments<3.0.0,>=2.13.0 in ./env/lib/python3.12/site-packages (from rich>=11.0.0->rich-argparse<2.0.0,>=1.6.0->dlt[duckdb]) (2.19.1)\n",
      "Requirement already satisfied: mdurl~=0.1 in ./env/lib/python3.12/site-packages (from markdown-it-py>=2.2.0->rich>=11.0.0->rich-argparse<2.0.0,>=1.6.0->dlt[duckdb]) (0.1.2)\n",
      "\n",
      "\u001b[1m[\u001b[0m\u001b[34;49mnotice\u001b[0m\u001b[1;39;49m]\u001b[0m\u001b[39;49m A new release of pip is available: \u001b[0m\u001b[31;49m24.0\u001b[0m\u001b[39;49m -> \u001b[0m\u001b[32;49m25.0.1\u001b[0m\n",
      "\u001b[1m[\u001b[0m\u001b[34;49mnotice\u001b[0m\u001b[1;39;49m]\u001b[0m\u001b[39;49m To update, run: \u001b[0m\u001b[32;49mpip install --upgrade pip\u001b[0m\n"
     ]
    }
   ],
   "source": [
    "!pip3 install 'dlt[duckdb]'"
   ]
  },
  {
   "cell_type": "code",
   "execution_count": 4,
   "id": "13b9de09-3e1e-48b9-9baf-2fbad1606b86",
   "metadata": {},
   "outputs": [],
   "source": [
    "import dlt\n",
    "from dlt.sources.helpers.rest_client import RESTClient\n",
    "from dlt.sources.helpers.rest_client.paginators import PageNumberPaginator"
   ]
  },
  {
   "cell_type": "code",
   "execution_count": 5,
   "id": "27dbc8ea",
   "metadata": {},
   "outputs": [],
   "source": [
    "@dlt.resource(name=\"rides\", write_disposition=\"append\")\n",
    "def ny_taxi():\n",
    "    client = RESTClient(\n",
    "        base_url=\"https://us-central1-dlthub-analytics.cloudfunctions.net\",\n",
    "        paginator=PageNumberPaginator(\n",
    "            base_page=1,\n",
    "            total_path=None\n",
    "        )\n",
    "    )\n",
    "\n",
    "    for page in client.paginate(\"data_engineering_zoomcamp_api\"):\n",
    "        yield page"
   ]
  },
  {
   "cell_type": "code",
   "execution_count": 6,
   "id": "3d90641f",
   "metadata": {},
   "outputs": [],
   "source": [
    "pipeline = dlt.pipeline(\n",
    "    pipeline_name=\"ny_taxi_pipeline\",\n",
    "    destination=\"duckdb\",\n",
    "    dataset_name=\"ny_taxi_data\"\n",
    ")"
   ]
  },
  {
   "cell_type": "code",
   "execution_count": 7,
   "id": "e4827983",
   "metadata": {},
   "outputs": [
    {
     "name": "stdout",
     "output_type": "stream",
     "text": [
      "Pipeline ny_taxi_pipeline load step completed in 0.94 seconds\n",
      "1 load package(s) were loaded to destination duckdb and into dataset ny_taxi_data\n",
      "The duckdb destination used duckdb:////Users/amrshedou/Downloads/DEZoomcamp/DEZoomcamp/workshop1/ny_taxi_pipeline.duckdb location to store data\n",
      "Load package 1739302240.77711 is LOADED and contains no failed jobs\n"
     ]
    }
   ],
   "source": [
    "load_info = pipeline.run(ny_taxi)\n",
    "print(load_info)"
   ]
  },
  {
   "cell_type": "code",
   "execution_count": 8,
   "id": "6c250f24",
   "metadata": {},
   "outputs": [
    {
     "data": {
      "text/plain": [
       "┌──────────────────┬──────────────┬─────────────────────┬──────────────────────────────────────────────────────────────────────────────────────────────────────────────────────────────────────────────────────────────────────────────────────────────────────────────────────────────────────────────────┬──────────────────────────────────────────────────────────────────────────────────────────────────────────────────────────────────────────────────────────────────────────────────────────┬───────────┐\n",
       "│     database     │    schema    │        name         │                                                                                                                   column_names                                                                                                                   │                                                                                       column_types                                                                                       │ temporary │\n",
       "│     varchar      │   varchar    │       varchar       │                                                                                                                    varchar[]                                                                                                                     │                                                                                        varchar[]                                                                                         │  boolean  │\n",
       "├──────────────────┼──────────────┼─────────────────────┼──────────────────────────────────────────────────────────────────────────────────────────────────────────────────────────────────────────────────────────────────────────────────────────────────────────────────────────────────────────────────┼──────────────────────────────────────────────────────────────────────────────────────────────────────────────────────────────────────────────────────────────────────────────────────────┼───────────┤\n",
       "│ ny_taxi_pipeline │ ny_taxi_data │ _dlt_loads          │ [load_id, schema_name, status, inserted_at, schema_version_hash]                                                                                                                                                                                 │ [VARCHAR, VARCHAR, BIGINT, TIMESTAMP WITH TIME ZONE, VARCHAR]                                                                                                                            │ false     │\n",
       "│ ny_taxi_pipeline │ ny_taxi_data │ _dlt_pipeline_state │ [version, engine_version, pipeline_name, state, created_at, version_hash, _dlt_load_id, _dlt_id]                                                                                                                                                 │ [BIGINT, BIGINT, VARCHAR, VARCHAR, TIMESTAMP WITH TIME ZONE, VARCHAR, VARCHAR, VARCHAR]                                                                                                  │ false     │\n",
       "│ ny_taxi_pipeline │ ny_taxi_data │ _dlt_version        │ [version, engine_version, inserted_at, schema_name, version_hash, schema]                                                                                                                                                                        │ [BIGINT, BIGINT, TIMESTAMP WITH TIME ZONE, VARCHAR, VARCHAR, VARCHAR]                                                                                                                    │ false     │\n",
       "│ ny_taxi_pipeline │ ny_taxi_data │ rides               │ [end_lat, end_lon, fare_amt, passenger_count, payment_type, start_lat, start_lon, tip_amt, tolls_amt, total_amt, trip_distance, trip_dropoff_date_time, trip_pickup_date_time, surcharge, vendor_name, _dlt_load_id, _dlt_id, store_and_forward] │ [DOUBLE, DOUBLE, DOUBLE, BIGINT, VARCHAR, DOUBLE, DOUBLE, DOUBLE, DOUBLE, DOUBLE, DOUBLE, TIMESTAMP WITH TIME ZONE, TIMESTAMP WITH TIME ZONE, DOUBLE, VARCHAR, VARCHAR, VARCHAR, DOUBLE] │ false     │\n",
       "└──────────────────┴──────────────┴─────────────────────┴──────────────────────────────────────────────────────────────────────────────────────────────────────────────────────────────────────────────────────────────────────────────────────────────────────────────────────────────────────────────────┴──────────────────────────────────────────────────────────────────────────────────────────────────────────────────────────────────────────────────────────────────────────────────────────┴───────────┘"
      ]
     },
     "execution_count": 8,
     "metadata": {},
     "output_type": "execute_result"
    }
   ],
   "source": [
    "import duckdb\n",
    "\n",
    "\n",
    "\n",
    "# A database '<pipeline_name>.duckdb' was created in working directory so just connect to it\n",
    "\n",
    "# Connect to the DuckDB database\n",
    "conn = duckdb.connect(f\"{pipeline.pipeline_name}.duckdb\")\n",
    "\n",
    "# Set search path to the dataset\n",
    "conn.sql(f\"SET search_path = '{pipeline.dataset_name}'\")\n",
    "\n",
    "# Describe the dataset\n",
    "conn.sql(\"DESCRIBE\")"
   ]
  },
  {
   "cell_type": "code",
   "execution_count": 9,
   "id": "54759616",
   "metadata": {},
   "outputs": [],
   "source": [
    "df = pipeline.dataset(dataset_type=\"default\").rides"
   ]
  },
  {
   "cell_type": "code",
   "execution_count": 10,
   "id": "7dd628c7",
   "metadata": {},
   "outputs": [
    {
     "data": {
      "text/plain": [
       "<dlt.destinations.dataset.relation.ReadableDBAPIRelation at 0x10781c620>"
      ]
     },
     "execution_count": 10,
     "metadata": {},
     "output_type": "execute_result"
    }
   ],
   "source": [
    "df"
   ]
  },
  {
   "cell_type": "code",
   "execution_count": 11,
   "id": "a9a4e5ed",
   "metadata": {},
   "outputs": [
    {
     "name": "stdout",
     "output_type": "stream",
     "text": [
      "[(12.3049,)]\n"
     ]
    }
   ],
   "source": [
    "with pipeline.sql_client() as client:\n",
    "    res = client.execute_sql(\n",
    "            \"\"\"\n",
    "            SELECT\n",
    "            AVG(date_diff('minute', trip_pickup_date_time, trip_dropoff_date_time))\n",
    "            FROM rides;\n",
    "            \"\"\"\n",
    "        )\n",
    "    print(res)"
   ]
  },
  {
   "cell_type": "code",
   "execution_count": null,
   "id": "2401294f",
   "metadata": {},
   "outputs": [],
   "source": []
  }
 ],
 "metadata": {
  "kernelspec": {
   "display_name": "Python 3 (ipykernel)",
   "language": "python",
   "name": "python3"
  },
  "language_info": {
   "codemirror_mode": {
    "name": "ipython",
    "version": 3
   },
   "file_extension": ".py",
   "mimetype": "text/x-python",
   "name": "python",
   "nbconvert_exporter": "python",
   "pygments_lexer": "ipython3",
   "version": "3.12.4"
  }
 },
 "nbformat": 4,
 "nbformat_minor": 5
}
