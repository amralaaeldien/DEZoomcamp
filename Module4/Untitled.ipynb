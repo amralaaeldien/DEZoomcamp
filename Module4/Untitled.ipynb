{
 "cells": [
  {
   "cell_type": "code",
   "execution_count": null,
   "id": "87ccf950-eb44-45a7-8bad-7d55b5a29632",
   "metadata": {},
   "outputs": [],
   "source": [
    "!pip install \"dlt[bigquery]\""
   ]
  },
  {
   "cell_type": "code",
   "execution_count": null,
   "id": "3fd34018-3805-4cd6-8f81-d890e758946c",
   "metadata": {},
   "outputs": [],
   "source": [
    "import dlt\n",
    "from dlt.sources.helpers.rest_client import RESTClient"
   ]
  },
  {
   "cell_type": "code",
   "execution_count": null,
   "id": "bf74194f-861c-493b-937f-5c8076c7d449",
   "metadata": {},
   "outputs": [],
   "source": [
    "client = RESTClient(base_url=\"https://github.com/DataTalksClub/nyc-tlc-data/releases/download/green/\")"
   ]
  },
  {
   "cell_type": "code",
   "execution_count": null,
   "id": "82475fef",
   "metadata": {},
   "outputs": [],
   "source": [
    "response = client.get(\"green_tripdata_2019-01.csv.gz\")"
   ]
  },
  {
   "cell_type": "code",
   "execution_count": null,
   "id": "799696d1",
   "metadata": {},
   "outputs": [],
   "source": [
    "!gunzip green_tripdata_2019-01.csv.gz"
   ]
  },
  {
   "cell_type": "code",
   "execution_count": null,
   "id": "60f5705a",
   "metadata": {},
   "outputs": [],
   "source": [
    "from dlt.sources.filesystem import filesystem, read_csv"
   ]
  },
  {
   "cell_type": "code",
   "execution_count": null,
   "id": "0b65b07e",
   "metadata": {},
   "outputs": [],
   "source": [
    "!pip3 install pandas"
   ]
  },
  {
   "cell_type": "code",
   "execution_count": null,
   "id": "39e05737",
   "metadata": {},
   "outputs": [],
   "source": [
    "import dlt\n",
    "import requests\n",
    "import gzip\n",
    "import io\n",
    "\n",
    "# Define a function to extract data from a remote .csv.gz file\n",
    "def fetch_csv_gz_from_remote(url):\n",
    "    response = requests.get(url, stream=True)\n",
    "    response.raise_for_status()\n",
    "    with gzip.GzipFile(fileobj=io.BytesIO(response.content)) as gz_file:\n",
    "        return gz_file.read().decode('utf-8')\n",
    "\n",
    "# Define a dlt pipeline\n",
    "pipeline = dlt.pipeline(\n",
    "    pipeline_name=\"csv_gz_to_bigquery\",\n",
    "    destination=\"bigquery\",  # Use BigQuery as the destination\n",
    "    dataset_name=\"your_dataset\",  # BigQuery dataset name\n",
    ")\n",
    "\n",
    "# URL to the remote .csv.gz file\n",
    "csv_gz_url = \"https://github.com/DataTalksClub/nyc-tlc-data/releases/download/green/green_tripdata_2019-01.csv.gz\"\n",
    "\n",
    "# Fetch and load the data\n",
    "data = fetch_csv_gz_from_remote(csv_gz_url)\n",
    "# Parse the CSV data (assuming it's comma-separated)\n",
    "rows = [line.split(\",\") for line in data.splitlines()]\n",
    "\n",
    "# Load the data into BigQuery\n",
    "load_info = pipeline.run(rows, table_name=\"your_table\")\n",
    "print(load_info)"
   ]
  },
  {
   "cell_type": "code",
   "execution_count": null,
   "id": "8d208cec",
   "metadata": {},
   "outputs": [],
   "source": [
    "from dlt.common.storages.fsspec_filesystem import FileItemDict\n",
    "from dlt.common.typing import TDataItems\n",
    "\n",
    "@dlt.transformer(standalone=True)\n",
    "def read_gz(items):\n",
    "    import pandas as pd\n",
    "    # Iterate through each file item.\n",
    "    for file_obj in items:\n",
    "        # Open the file object.\n",
    "        with file_obj.open() as file:\n",
    "            # Parse the file to dict records.\n",
    "            yield pd.read_csv(file)"
   ]
  },
  {
   "cell_type": "code",
   "execution_count": null,
   "id": "8eb52ade",
   "metadata": {},
   "outputs": [],
   "source": [
    "!pip3 install \"dlt[bigquery]\"\n",
    "import dlt\n",
    "from dlt.sources.filesystem import filesystem, read_csv\n",
    "\n",
    "files = filesystem(extract_content=True, bucket_url=\"https://github.com/DataTalksClub/nyc-tlc-data/releases/download/green\", file_glob=\"green_tripdata_2019-01.csv.gz\")\n",
    "filesystem_pipe = files | read_gz()\n",
    "\n",
    "\n",
    "pipeline = dlt.pipeline(pipeline_name=\"testing_taxi1\", dataset_name=\"testing_taxi3\", destination=\"bigquery\")\n",
    "\n",
    "load_info = pipeline.run(filesystem_pipe.with_name(\"testing_taxi2\"))\n",
    "load_info = pipeline.run(filesystem_pipe.with_name(\"testing_taxi2\"))\n",
    "\n",
    "print(load_info)\n",
    "print(pipeline.last_trace.last_normalize_info)\n"
   ]
  },
  {
   "cell_type": "code",
   "execution_count": null,
   "id": "a185c3ce",
   "metadata": {},
   "outputs": [],
   "source": [
    "\"https://www.stats.govt.nz/assets/Uploads/Annual-enterprise-survey/Annual-enterprise-survey-2023-financial-year-provisional/Download-data/annual-enterprise-survey-2023-financial-year-provisional-size-bands.csv\""
   ]
  },
  {
   "cell_type": "code",
   "execution_count": null,
   "id": "dfcf421f",
   "metadata": {},
   "outputs": [],
   "source": [
    "import dlt\n",
    "from dlt.sources.filesystem import filesystem, read_csv\n",
    "\n",
    "files = filesystem(extract_content=True, bucket_url=\"https://github.com/DataTalksClub/nyc-tlc-data/releases/download/green\",\n",
    "                    file_glob=\"green_tripdata_2019-01.csv.gz\")\n",
    "filesystem_pipe = files | read_gz()\n",
    "\n",
    "\n",
    "pipeline = dlt.pipeline(pipeline_name=\"testing_taxi1\", dataset_name=\"testing_taxi3\", destination=\"bigquery\")\n",
    "\n",
    "load_info = pipeline.run(filesystem_pipe.with_name(\"testing_taxi2\"))\n",
    "load_info = pipeline.run(filesystem_pipe.with_name(\"testing_taxi2\"))\n",
    "\n",
    "print(load_info)\n",
    "print(pipeline.last_trace.last_normalize_info)\n"
   ]
  },
  {
   "cell_type": "code",
   "execution_count": null,
   "id": "d463019e",
   "metadata": {},
   "outputs": [],
   "source": [
    "!pip3 install google-cloud-bigquery-storage"
   ]
  },
  {
   "cell_type": "code",
   "execution_count": 4,
   "id": "9197f804",
   "metadata": {},
   "outputs": [
    {
     "name": "stdout",
     "output_type": "stream",
     "text": [
      "Requirement already satisfied: certifi in /Users/amrshedou/Downloads/DEZoomcamp/DEZoomcamp/workshop1/env/lib/python3.12/site-packages (2025.1.31)\n",
      "\n",
      "\u001b[1m[\u001b[0m\u001b[34;49mnotice\u001b[0m\u001b[1;39;49m]\u001b[0m\u001b[39;49m A new release of pip is available: \u001b[0m\u001b[31;49m24.0\u001b[0m\u001b[39;49m -> \u001b[0m\u001b[32;49m25.0.1\u001b[0m\n",
      "\u001b[1m[\u001b[0m\u001b[34;49mnotice\u001b[0m\u001b[1;39;49m]\u001b[0m\u001b[39;49m To update, run: \u001b[0m\u001b[32;49mpip install --upgrade pip\u001b[0m\n",
      "Requirement already satisfied: pip-system-certs==4.0.0 in /Users/amrshedou/Downloads/DEZoomcamp/DEZoomcamp/workshop1/env/lib/python3.12/site-packages (4.0)\n",
      "Requirement already satisfied: wrapt>=1.10.4 in /Users/amrshedou/Downloads/DEZoomcamp/DEZoomcamp/workshop1/env/lib/python3.12/site-packages (from pip-system-certs==4.0.0) (1.17.2)\n",
      "\n",
      "\u001b[1m[\u001b[0m\u001b[34;49mnotice\u001b[0m\u001b[1;39;49m]\u001b[0m\u001b[39;49m A new release of pip is available: \u001b[0m\u001b[31;49m24.0\u001b[0m\u001b[39;49m -> \u001b[0m\u001b[32;49m25.0.1\u001b[0m\n",
      "\u001b[1m[\u001b[0m\u001b[34;49mnotice\u001b[0m\u001b[1;39;49m]\u001b[0m\u001b[39;49m To update, run: \u001b[0m\u001b[32;49mpip install --upgrade pip\u001b[0m\n",
      " -- pip install --upgrade certifi\n",
      "Requirement already satisfied: certifi in /Library/Frameworks/Python.framework/Versions/3.12/lib/python3.12/site-packages (2025.1.31)\n",
      "\n",
      "\u001b[1m[\u001b[0m\u001b[34;49mnotice\u001b[0m\u001b[1;39;49m]\u001b[0m\u001b[39;49m A new release of pip is available: \u001b[0m\u001b[31;49m24.0\u001b[0m\u001b[39;49m -> \u001b[0m\u001b[32;49m25.0.1\u001b[0m\n",
      "\u001b[1m[\u001b[0m\u001b[34;49mnotice\u001b[0m\u001b[1;39;49m]\u001b[0m\u001b[39;49m To update, run: \u001b[0m\u001b[32;49mpython3.12 -m pip install --upgrade pip\u001b[0m\n",
      " -- removing any existing file or link\n",
      " -- creating symlink to certifi certificate bundle\n",
      " -- setting permissions\n",
      " -- update complete\n",
      "downloading https://github.com/DataTalksClub/nyc-tlc-data/releases/download/fhv/fhv_tripdata_2019-01.csv.gz\n"
     ]
    },
    {
     "name": "stderr",
     "output_type": "stream",
     "text": [
      "2025-02-23 23:38:07,028|[WARNING]|49993|8438220864|dlt|type_mapping.py|to_db_datetime_type:56|Column flags for timezone or precision are not yet supported in this destination. One or both of these flags were used in column 'tpep_pickup_datetime'. in table 'yellow_taxi'.\n",
      "2025-02-23 23:38:07,029|[WARNING]|49993|8438220864|dlt|type_mapping.py|to_db_datetime_type:56|Column flags for timezone or precision are not yet supported in this destination. One or both of these flags were used in column 'tpep_dropoff_datetime'. in table 'yellow_taxi'.\n",
      "2025-02-23 23:38:07,029|[WARNING]|49993|8438220864|dlt|type_mapping.py|to_db_datetime_type:56|Column flags for timezone or precision are not yet supported in this destination. One or both of these flags were used in column 'pickup_datetime'. in table 'fhv'.\n",
      "2025-02-23 23:38:07,029|[WARNING]|49993|8438220864|dlt|type_mapping.py|to_db_datetime_type:56|Column flags for timezone or precision are not yet supported in this destination. One or both of these flags were used in column 'drop_off_datetime'. in table 'fhv'.\n",
      "2025-02-23 23:38:07,029|[WARNING]|49993|8438220864|dlt|type_mapping.py|to_db_datetime_type:56|Column flags for timezone or precision are not yet supported in this destination. One or both of these flags were used in column 'pickup_datetime'. in table 'fhv_taxi'.\n",
      "2025-02-23 23:38:07,029|[WARNING]|49993|8438220864|dlt|type_mapping.py|to_db_datetime_type:56|Column flags for timezone or precision are not yet supported in this destination. One or both of these flags were used in column 'drop_off_datetime'. in table 'fhv_taxi'.\n",
      "2025-02-23 23:38:07,030|[WARNING]|49993|8438220864|dlt|type_mapping.py|to_db_datetime_type:56|Column flags for timezone or precision are not yet supported in this destination. One or both of these flags were used in column 'lpep_pickup_datetime'. in table 'green_taxi'.\n",
      "2025-02-23 23:38:07,030|[WARNING]|49993|8438220864|dlt|type_mapping.py|to_db_datetime_type:56|Column flags for timezone or precision are not yet supported in this destination. One or both of these flags were used in column 'lpep_dropoff_datetime'. in table 'green_taxi'.\n"
     ]
    },
    {
     "name": "stdout",
     "output_type": "stream",
     "text": [
      "downloading https://github.com/DataTalksClub/nyc-tlc-data/releases/download/fhv/fhv_tripdata_2019-02.csv.gz\n"
     ]
    },
    {
     "name": "stderr",
     "output_type": "stream",
     "text": [
      "2025-02-23 23:49:51,095|[WARNING]|49993|8438220864|dlt|type_mapping.py|to_db_datetime_type:56|Column flags for timezone or precision are not yet supported in this destination. One or both of these flags were used in column 'tpep_pickup_datetime'. in table 'yellow_taxi'.\n",
      "2025-02-23 23:49:51,095|[WARNING]|49993|8438220864|dlt|type_mapping.py|to_db_datetime_type:56|Column flags for timezone or precision are not yet supported in this destination. One or both of these flags were used in column 'tpep_dropoff_datetime'. in table 'yellow_taxi'.\n",
      "2025-02-23 23:49:51,095|[WARNING]|49993|8438220864|dlt|type_mapping.py|to_db_datetime_type:56|Column flags for timezone or precision are not yet supported in this destination. One or both of these flags were used in column 'pickup_datetime'. in table 'fhv'.\n",
      "2025-02-23 23:49:51,096|[WARNING]|49993|8438220864|dlt|type_mapping.py|to_db_datetime_type:56|Column flags for timezone or precision are not yet supported in this destination. One or both of these flags were used in column 'drop_off_datetime'. in table 'fhv'.\n",
      "2025-02-23 23:49:51,096|[WARNING]|49993|8438220864|dlt|type_mapping.py|to_db_datetime_type:56|Column flags for timezone or precision are not yet supported in this destination. One or both of these flags were used in column 'pickup_datetime'. in table 'fhv_taxi'.\n",
      "2025-02-23 23:49:51,096|[WARNING]|49993|8438220864|dlt|type_mapping.py|to_db_datetime_type:56|Column flags for timezone or precision are not yet supported in this destination. One or both of these flags were used in column 'drop_off_datetime'. in table 'fhv_taxi'.\n",
      "2025-02-23 23:49:51,096|[WARNING]|49993|8438220864|dlt|type_mapping.py|to_db_datetime_type:56|Column flags for timezone or precision are not yet supported in this destination. One or both of these flags were used in column 'lpep_pickup_datetime'. in table 'green_taxi'.\n",
      "2025-02-23 23:49:51,097|[WARNING]|49993|8438220864|dlt|type_mapping.py|to_db_datetime_type:56|Column flags for timezone or precision are not yet supported in this destination. One or both of these flags were used in column 'lpep_dropoff_datetime'. in table 'green_taxi'.\n"
     ]
    },
    {
     "name": "stdout",
     "output_type": "stream",
     "text": [
      "downloading https://github.com/DataTalksClub/nyc-tlc-data/releases/download/fhv/fhv_tripdata_2019-03.csv.gz\n"
     ]
    },
    {
     "name": "stderr",
     "output_type": "stream",
     "text": [
      "2025-02-23 23:51:28,368|[WARNING]|49993|8438220864|dlt|type_mapping.py|to_db_datetime_type:56|Column flags for timezone or precision are not yet supported in this destination. One or both of these flags were used in column 'tpep_pickup_datetime'. in table 'yellow_taxi'.\n",
      "2025-02-23 23:51:28,369|[WARNING]|49993|8438220864|dlt|type_mapping.py|to_db_datetime_type:56|Column flags for timezone or precision are not yet supported in this destination. One or both of these flags were used in column 'tpep_dropoff_datetime'. in table 'yellow_taxi'.\n",
      "2025-02-23 23:51:28,369|[WARNING]|49993|8438220864|dlt|type_mapping.py|to_db_datetime_type:56|Column flags for timezone or precision are not yet supported in this destination. One or both of these flags were used in column 'pickup_datetime'. in table 'fhv'.\n",
      "2025-02-23 23:51:28,369|[WARNING]|49993|8438220864|dlt|type_mapping.py|to_db_datetime_type:56|Column flags for timezone or precision are not yet supported in this destination. One or both of these flags were used in column 'drop_off_datetime'. in table 'fhv'.\n",
      "2025-02-23 23:51:28,370|[WARNING]|49993|8438220864|dlt|type_mapping.py|to_db_datetime_type:56|Column flags for timezone or precision are not yet supported in this destination. One or both of these flags were used in column 'pickup_datetime'. in table 'fhv_taxi'.\n",
      "2025-02-23 23:51:28,370|[WARNING]|49993|8438220864|dlt|type_mapping.py|to_db_datetime_type:56|Column flags for timezone or precision are not yet supported in this destination. One or both of these flags were used in column 'drop_off_datetime'. in table 'fhv_taxi'.\n",
      "2025-02-23 23:51:28,370|[WARNING]|49993|8438220864|dlt|type_mapping.py|to_db_datetime_type:56|Column flags for timezone or precision are not yet supported in this destination. One or both of these flags were used in column 'lpep_pickup_datetime'. in table 'green_taxi'.\n",
      "2025-02-23 23:51:28,371|[WARNING]|49993|8438220864|dlt|type_mapping.py|to_db_datetime_type:56|Column flags for timezone or precision are not yet supported in this destination. One or both of these flags were used in column 'lpep_dropoff_datetime'. in table 'green_taxi'.\n"
     ]
    },
    {
     "name": "stdout",
     "output_type": "stream",
     "text": [
      "downloading https://github.com/DataTalksClub/nyc-tlc-data/releases/download/fhv/fhv_tripdata_2019-04.csv.gz\n"
     ]
    },
    {
     "name": "stderr",
     "output_type": "stream",
     "text": [
      "2025-02-23 23:53:03,973|[WARNING]|49993|8438220864|dlt|type_mapping.py|to_db_datetime_type:56|Column flags for timezone or precision are not yet supported in this destination. One or both of these flags were used in column 'tpep_pickup_datetime'. in table 'yellow_taxi'.\n",
      "2025-02-23 23:53:03,974|[WARNING]|49993|8438220864|dlt|type_mapping.py|to_db_datetime_type:56|Column flags for timezone or precision are not yet supported in this destination. One or both of these flags were used in column 'tpep_dropoff_datetime'. in table 'yellow_taxi'.\n",
      "2025-02-23 23:53:03,974|[WARNING]|49993|8438220864|dlt|type_mapping.py|to_db_datetime_type:56|Column flags for timezone or precision are not yet supported in this destination. One or both of these flags were used in column 'pickup_datetime'. in table 'fhv'.\n",
      "2025-02-23 23:53:03,974|[WARNING]|49993|8438220864|dlt|type_mapping.py|to_db_datetime_type:56|Column flags for timezone or precision are not yet supported in this destination. One or both of these flags were used in column 'drop_off_datetime'. in table 'fhv'.\n",
      "2025-02-23 23:53:03,975|[WARNING]|49993|8438220864|dlt|type_mapping.py|to_db_datetime_type:56|Column flags for timezone or precision are not yet supported in this destination. One or both of these flags were used in column 'pickup_datetime'. in table 'fhv_taxi'.\n",
      "2025-02-23 23:53:03,975|[WARNING]|49993|8438220864|dlt|type_mapping.py|to_db_datetime_type:56|Column flags for timezone or precision are not yet supported in this destination. One or both of these flags were used in column 'drop_off_datetime'. in table 'fhv_taxi'.\n",
      "2025-02-23 23:53:03,975|[WARNING]|49993|8438220864|dlt|type_mapping.py|to_db_datetime_type:56|Column flags for timezone or precision are not yet supported in this destination. One or both of these flags were used in column 'lpep_pickup_datetime'. in table 'green_taxi'.\n",
      "2025-02-23 23:53:03,975|[WARNING]|49993|8438220864|dlt|type_mapping.py|to_db_datetime_type:56|Column flags for timezone or precision are not yet supported in this destination. One or both of these flags were used in column 'lpep_dropoff_datetime'. in table 'green_taxi'.\n"
     ]
    },
    {
     "name": "stdout",
     "output_type": "stream",
     "text": [
      "downloading https://github.com/DataTalksClub/nyc-tlc-data/releases/download/fhv/fhv_tripdata_2019-05.csv.gz\n"
     ]
    },
    {
     "name": "stderr",
     "output_type": "stream",
     "text": [
      "2025-02-23 23:54:47,816|[WARNING]|49993|8438220864|dlt|type_mapping.py|to_db_datetime_type:56|Column flags for timezone or precision are not yet supported in this destination. One or both of these flags were used in column 'tpep_pickup_datetime'. in table 'yellow_taxi'.\n",
      "2025-02-23 23:54:47,817|[WARNING]|49993|8438220864|dlt|type_mapping.py|to_db_datetime_type:56|Column flags for timezone or precision are not yet supported in this destination. One or both of these flags were used in column 'tpep_dropoff_datetime'. in table 'yellow_taxi'.\n",
      "2025-02-23 23:54:47,817|[WARNING]|49993|8438220864|dlt|type_mapping.py|to_db_datetime_type:56|Column flags for timezone or precision are not yet supported in this destination. One or both of these flags were used in column 'pickup_datetime'. in table 'fhv'.\n",
      "2025-02-23 23:54:47,817|[WARNING]|49993|8438220864|dlt|type_mapping.py|to_db_datetime_type:56|Column flags for timezone or precision are not yet supported in this destination. One or both of these flags were used in column 'drop_off_datetime'. in table 'fhv'.\n",
      "2025-02-23 23:54:47,817|[WARNING]|49993|8438220864|dlt|type_mapping.py|to_db_datetime_type:56|Column flags for timezone or precision are not yet supported in this destination. One or both of these flags were used in column 'pickup_datetime'. in table 'fhv_taxi'.\n",
      "2025-02-23 23:54:47,817|[WARNING]|49993|8438220864|dlt|type_mapping.py|to_db_datetime_type:56|Column flags for timezone or precision are not yet supported in this destination. One or both of these flags were used in column 'drop_off_datetime'. in table 'fhv_taxi'.\n",
      "2025-02-23 23:54:47,818|[WARNING]|49993|8438220864|dlt|type_mapping.py|to_db_datetime_type:56|Column flags for timezone or precision are not yet supported in this destination. One or both of these flags were used in column 'lpep_pickup_datetime'. in table 'green_taxi'.\n",
      "2025-02-23 23:54:47,818|[WARNING]|49993|8438220864|dlt|type_mapping.py|to_db_datetime_type:56|Column flags for timezone or precision are not yet supported in this destination. One or both of these flags were used in column 'lpep_dropoff_datetime'. in table 'green_taxi'.\n"
     ]
    },
    {
     "name": "stdout",
     "output_type": "stream",
     "text": [
      "downloading https://github.com/DataTalksClub/nyc-tlc-data/releases/download/fhv/fhv_tripdata_2019-06.csv.gz\n"
     ]
    },
    {
     "name": "stderr",
     "output_type": "stream",
     "text": [
      "2025-02-23 23:57:30,389|[WARNING]|49993|8438220864|dlt|type_mapping.py|to_db_datetime_type:56|Column flags for timezone or precision are not yet supported in this destination. One or both of these flags were used in column 'tpep_pickup_datetime'. in table 'yellow_taxi'.\n",
      "2025-02-23 23:57:30,390|[WARNING]|49993|8438220864|dlt|type_mapping.py|to_db_datetime_type:56|Column flags for timezone or precision are not yet supported in this destination. One or both of these flags were used in column 'tpep_dropoff_datetime'. in table 'yellow_taxi'.\n",
      "2025-02-23 23:57:30,390|[WARNING]|49993|8438220864|dlt|type_mapping.py|to_db_datetime_type:56|Column flags for timezone or precision are not yet supported in this destination. One or both of these flags were used in column 'pickup_datetime'. in table 'fhv'.\n",
      "2025-02-23 23:57:30,390|[WARNING]|49993|8438220864|dlt|type_mapping.py|to_db_datetime_type:56|Column flags for timezone or precision are not yet supported in this destination. One or both of these flags were used in column 'drop_off_datetime'. in table 'fhv'.\n",
      "2025-02-23 23:57:30,390|[WARNING]|49993|8438220864|dlt|type_mapping.py|to_db_datetime_type:56|Column flags for timezone or precision are not yet supported in this destination. One or both of these flags were used in column 'pickup_datetime'. in table 'fhv_taxi'.\n",
      "2025-02-23 23:57:30,391|[WARNING]|49993|8438220864|dlt|type_mapping.py|to_db_datetime_type:56|Column flags for timezone or precision are not yet supported in this destination. One or both of these flags were used in column 'drop_off_datetime'. in table 'fhv_taxi'.\n",
      "2025-02-23 23:57:30,391|[WARNING]|49993|8438220864|dlt|type_mapping.py|to_db_datetime_type:56|Column flags for timezone or precision are not yet supported in this destination. One or both of these flags were used in column 'lpep_pickup_datetime'. in table 'green_taxi'.\n",
      "2025-02-23 23:57:30,391|[WARNING]|49993|8438220864|dlt|type_mapping.py|to_db_datetime_type:56|Column flags for timezone or precision are not yet supported in this destination. One or both of these flags were used in column 'lpep_dropoff_datetime'. in table 'green_taxi'.\n"
     ]
    },
    {
     "name": "stdout",
     "output_type": "stream",
     "text": [
      "downloading https://github.com/DataTalksClub/nyc-tlc-data/releases/download/fhv/fhv_tripdata_2019-07.csv.gz\n"
     ]
    },
    {
     "name": "stderr",
     "output_type": "stream",
     "text": [
      "2025-02-23 23:59:44,538|[WARNING]|49993|8438220864|dlt|type_mapping.py|to_db_datetime_type:56|Column flags for timezone or precision are not yet supported in this destination. One or both of these flags were used in column 'tpep_pickup_datetime'. in table 'yellow_taxi'.\n",
      "2025-02-23 23:59:44,539|[WARNING]|49993|8438220864|dlt|type_mapping.py|to_db_datetime_type:56|Column flags for timezone or precision are not yet supported in this destination. One or both of these flags were used in column 'tpep_dropoff_datetime'. in table 'yellow_taxi'.\n",
      "2025-02-23 23:59:44,539|[WARNING]|49993|8438220864|dlt|type_mapping.py|to_db_datetime_type:56|Column flags for timezone or precision are not yet supported in this destination. One or both of these flags were used in column 'pickup_datetime'. in table 'fhv'.\n",
      "2025-02-23 23:59:44,539|[WARNING]|49993|8438220864|dlt|type_mapping.py|to_db_datetime_type:56|Column flags for timezone or precision are not yet supported in this destination. One or both of these flags were used in column 'drop_off_datetime'. in table 'fhv'.\n",
      "2025-02-23 23:59:44,540|[WARNING]|49993|8438220864|dlt|type_mapping.py|to_db_datetime_type:56|Column flags for timezone or precision are not yet supported in this destination. One or both of these flags were used in column 'pickup_datetime'. in table 'fhv_taxi'.\n",
      "2025-02-23 23:59:44,540|[WARNING]|49993|8438220864|dlt|type_mapping.py|to_db_datetime_type:56|Column flags for timezone or precision are not yet supported in this destination. One or both of these flags were used in column 'drop_off_datetime'. in table 'fhv_taxi'.\n",
      "2025-02-23 23:59:44,540|[WARNING]|49993|8438220864|dlt|type_mapping.py|to_db_datetime_type:56|Column flags for timezone or precision are not yet supported in this destination. One or both of these flags were used in column 'lpep_pickup_datetime'. in table 'green_taxi'.\n",
      "2025-02-23 23:59:44,540|[WARNING]|49993|8438220864|dlt|type_mapping.py|to_db_datetime_type:56|Column flags for timezone or precision are not yet supported in this destination. One or both of these flags were used in column 'lpep_dropoff_datetime'. in table 'green_taxi'.\n"
     ]
    },
    {
     "name": "stdout",
     "output_type": "stream",
     "text": [
      "downloading https://github.com/DataTalksClub/nyc-tlc-data/releases/download/fhv/fhv_tripdata_2019-08.csv.gz\n"
     ]
    },
    {
     "name": "stderr",
     "output_type": "stream",
     "text": [
      "2025-02-24 00:01:31,454|[WARNING]|49993|8438220864|dlt|type_mapping.py|to_db_datetime_type:56|Column flags for timezone or precision are not yet supported in this destination. One or both of these flags were used in column 'tpep_pickup_datetime'. in table 'yellow_taxi'.\n",
      "2025-02-24 00:01:31,454|[WARNING]|49993|8438220864|dlt|type_mapping.py|to_db_datetime_type:56|Column flags for timezone or precision are not yet supported in this destination. One or both of these flags were used in column 'tpep_dropoff_datetime'. in table 'yellow_taxi'.\n",
      "2025-02-24 00:01:31,455|[WARNING]|49993|8438220864|dlt|type_mapping.py|to_db_datetime_type:56|Column flags for timezone or precision are not yet supported in this destination. One or both of these flags were used in column 'pickup_datetime'. in table 'fhv'.\n",
      "2025-02-24 00:01:31,455|[WARNING]|49993|8438220864|dlt|type_mapping.py|to_db_datetime_type:56|Column flags for timezone or precision are not yet supported in this destination. One or both of these flags were used in column 'drop_off_datetime'. in table 'fhv'.\n",
      "2025-02-24 00:01:31,455|[WARNING]|49993|8438220864|dlt|type_mapping.py|to_db_datetime_type:56|Column flags for timezone or precision are not yet supported in this destination. One or both of these flags were used in column 'pickup_datetime'. in table 'fhv_taxi'.\n",
      "2025-02-24 00:01:31,455|[WARNING]|49993|8438220864|dlt|type_mapping.py|to_db_datetime_type:56|Column flags for timezone or precision are not yet supported in this destination. One or both of these flags were used in column 'drop_off_datetime'. in table 'fhv_taxi'.\n",
      "2025-02-24 00:01:31,455|[WARNING]|49993|8438220864|dlt|type_mapping.py|to_db_datetime_type:56|Column flags for timezone or precision are not yet supported in this destination. One or both of these flags were used in column 'lpep_pickup_datetime'. in table 'green_taxi'.\n",
      "2025-02-24 00:01:31,455|[WARNING]|49993|8438220864|dlt|type_mapping.py|to_db_datetime_type:56|Column flags for timezone or precision are not yet supported in this destination. One or both of these flags were used in column 'lpep_dropoff_datetime'. in table 'green_taxi'.\n"
     ]
    },
    {
     "name": "stdout",
     "output_type": "stream",
     "text": [
      "downloading https://github.com/DataTalksClub/nyc-tlc-data/releases/download/fhv/fhv_tripdata_2019-09.csv.gz\n"
     ]
    },
    {
     "name": "stderr",
     "output_type": "stream",
     "text": [
      "2025-02-24 00:03:03,132|[WARNING]|49993|8438220864|dlt|type_mapping.py|to_db_datetime_type:56|Column flags for timezone or precision are not yet supported in this destination. One or both of these flags were used in column 'tpep_pickup_datetime'. in table 'yellow_taxi'.\n",
      "2025-02-24 00:03:03,133|[WARNING]|49993|8438220864|dlt|type_mapping.py|to_db_datetime_type:56|Column flags for timezone or precision are not yet supported in this destination. One or both of these flags were used in column 'tpep_dropoff_datetime'. in table 'yellow_taxi'.\n",
      "2025-02-24 00:03:03,133|[WARNING]|49993|8438220864|dlt|type_mapping.py|to_db_datetime_type:56|Column flags for timezone or precision are not yet supported in this destination. One or both of these flags were used in column 'pickup_datetime'. in table 'fhv'.\n",
      "2025-02-24 00:03:03,133|[WARNING]|49993|8438220864|dlt|type_mapping.py|to_db_datetime_type:56|Column flags for timezone or precision are not yet supported in this destination. One or both of these flags were used in column 'drop_off_datetime'. in table 'fhv'.\n",
      "2025-02-24 00:03:03,133|[WARNING]|49993|8438220864|dlt|type_mapping.py|to_db_datetime_type:56|Column flags for timezone or precision are not yet supported in this destination. One or both of these flags were used in column 'pickup_datetime'. in table 'fhv_taxi'.\n",
      "2025-02-24 00:03:03,133|[WARNING]|49993|8438220864|dlt|type_mapping.py|to_db_datetime_type:56|Column flags for timezone or precision are not yet supported in this destination. One or both of these flags were used in column 'drop_off_datetime'. in table 'fhv_taxi'.\n",
      "2025-02-24 00:03:03,134|[WARNING]|49993|8438220864|dlt|type_mapping.py|to_db_datetime_type:56|Column flags for timezone or precision are not yet supported in this destination. One or both of these flags were used in column 'lpep_pickup_datetime'. in table 'green_taxi'.\n",
      "2025-02-24 00:03:03,134|[WARNING]|49993|8438220864|dlt|type_mapping.py|to_db_datetime_type:56|Column flags for timezone or precision are not yet supported in this destination. One or both of these flags were used in column 'lpep_dropoff_datetime'. in table 'green_taxi'.\n"
     ]
    },
    {
     "name": "stdout",
     "output_type": "stream",
     "text": [
      "downloading https://github.com/DataTalksClub/nyc-tlc-data/releases/download/fhv/fhv_tripdata_2019-10.csv.gz\n"
     ]
    },
    {
     "name": "stderr",
     "output_type": "stream",
     "text": [
      "2025-02-24 00:04:26,041|[WARNING]|49993|8438220864|dlt|type_mapping.py|to_db_datetime_type:56|Column flags for timezone or precision are not yet supported in this destination. One or both of these flags were used in column 'tpep_pickup_datetime'. in table 'yellow_taxi'.\n",
      "2025-02-24 00:04:26,041|[WARNING]|49993|8438220864|dlt|type_mapping.py|to_db_datetime_type:56|Column flags for timezone or precision are not yet supported in this destination. One or both of these flags were used in column 'tpep_dropoff_datetime'. in table 'yellow_taxi'.\n",
      "2025-02-24 00:04:26,042|[WARNING]|49993|8438220864|dlt|type_mapping.py|to_db_datetime_type:56|Column flags for timezone or precision are not yet supported in this destination. One or both of these flags were used in column 'pickup_datetime'. in table 'fhv'.\n",
      "2025-02-24 00:04:26,042|[WARNING]|49993|8438220864|dlt|type_mapping.py|to_db_datetime_type:56|Column flags for timezone or precision are not yet supported in this destination. One or both of these flags were used in column 'drop_off_datetime'. in table 'fhv'.\n",
      "2025-02-24 00:04:26,042|[WARNING]|49993|8438220864|dlt|type_mapping.py|to_db_datetime_type:56|Column flags for timezone or precision are not yet supported in this destination. One or both of these flags were used in column 'pickup_datetime'. in table 'fhv_taxi'.\n",
      "2025-02-24 00:04:26,042|[WARNING]|49993|8438220864|dlt|type_mapping.py|to_db_datetime_type:56|Column flags for timezone or precision are not yet supported in this destination. One or both of these flags were used in column 'drop_off_datetime'. in table 'fhv_taxi'.\n",
      "2025-02-24 00:04:26,042|[WARNING]|49993|8438220864|dlt|type_mapping.py|to_db_datetime_type:56|Column flags for timezone or precision are not yet supported in this destination. One or both of these flags were used in column 'lpep_pickup_datetime'. in table 'green_taxi'.\n",
      "2025-02-24 00:04:26,043|[WARNING]|49993|8438220864|dlt|type_mapping.py|to_db_datetime_type:56|Column flags for timezone or precision are not yet supported in this destination. One or both of these flags were used in column 'lpep_dropoff_datetime'. in table 'green_taxi'.\n"
     ]
    },
    {
     "name": "stdout",
     "output_type": "stream",
     "text": [
      "downloading https://github.com/DataTalksClub/nyc-tlc-data/releases/download/fhv/fhv_tripdata_2019-11.csv.gz\n"
     ]
    },
    {
     "name": "stderr",
     "output_type": "stream",
     "text": [
      "2025-02-24 00:07:06,907|[WARNING]|49993|8438220864|dlt|type_mapping.py|to_db_datetime_type:56|Column flags for timezone or precision are not yet supported in this destination. One or both of these flags were used in column 'tpep_pickup_datetime'. in table 'yellow_taxi'.\n",
      "2025-02-24 00:07:06,907|[WARNING]|49993|8438220864|dlt|type_mapping.py|to_db_datetime_type:56|Column flags for timezone or precision are not yet supported in this destination. One or both of these flags were used in column 'tpep_dropoff_datetime'. in table 'yellow_taxi'.\n",
      "2025-02-24 00:07:06,907|[WARNING]|49993|8438220864|dlt|type_mapping.py|to_db_datetime_type:56|Column flags for timezone or precision are not yet supported in this destination. One or both of these flags were used in column 'pickup_datetime'. in table 'fhv'.\n",
      "2025-02-24 00:07:06,907|[WARNING]|49993|8438220864|dlt|type_mapping.py|to_db_datetime_type:56|Column flags for timezone or precision are not yet supported in this destination. One or both of these flags were used in column 'drop_off_datetime'. in table 'fhv'.\n",
      "2025-02-24 00:07:06,908|[WARNING]|49993|8438220864|dlt|type_mapping.py|to_db_datetime_type:56|Column flags for timezone or precision are not yet supported in this destination. One or both of these flags were used in column 'pickup_datetime'. in table 'fhv_taxi'.\n",
      "2025-02-24 00:07:06,908|[WARNING]|49993|8438220864|dlt|type_mapping.py|to_db_datetime_type:56|Column flags for timezone or precision are not yet supported in this destination. One or both of these flags were used in column 'drop_off_datetime'. in table 'fhv_taxi'.\n",
      "2025-02-24 00:07:06,908|[WARNING]|49993|8438220864|dlt|type_mapping.py|to_db_datetime_type:56|Column flags for timezone or precision are not yet supported in this destination. One or both of these flags were used in column 'lpep_pickup_datetime'. in table 'green_taxi'.\n",
      "2025-02-24 00:07:06,908|[WARNING]|49993|8438220864|dlt|type_mapping.py|to_db_datetime_type:56|Column flags for timezone or precision are not yet supported in this destination. One or both of these flags were used in column 'lpep_dropoff_datetime'. in table 'green_taxi'.\n"
     ]
    },
    {
     "name": "stdout",
     "output_type": "stream",
     "text": [
      "downloading https://github.com/DataTalksClub/nyc-tlc-data/releases/download/fhv/fhv_tripdata_2019-12.csv.gz\n"
     ]
    },
    {
     "name": "stderr",
     "output_type": "stream",
     "text": [
      "2025-02-24 00:08:57,858|[WARNING]|49993|8438220864|dlt|type_mapping.py|to_db_datetime_type:56|Column flags for timezone or precision are not yet supported in this destination. One or both of these flags were used in column 'tpep_pickup_datetime'. in table 'yellow_taxi'.\n",
      "2025-02-24 00:08:57,859|[WARNING]|49993|8438220864|dlt|type_mapping.py|to_db_datetime_type:56|Column flags for timezone or precision are not yet supported in this destination. One or both of these flags were used in column 'tpep_dropoff_datetime'. in table 'yellow_taxi'.\n",
      "2025-02-24 00:08:57,859|[WARNING]|49993|8438220864|dlt|type_mapping.py|to_db_datetime_type:56|Column flags for timezone or precision are not yet supported in this destination. One or both of these flags were used in column 'pickup_datetime'. in table 'fhv'.\n",
      "2025-02-24 00:08:57,859|[WARNING]|49993|8438220864|dlt|type_mapping.py|to_db_datetime_type:56|Column flags for timezone or precision are not yet supported in this destination. One or both of these flags were used in column 'drop_off_datetime'. in table 'fhv'.\n",
      "2025-02-24 00:08:57,859|[WARNING]|49993|8438220864|dlt|type_mapping.py|to_db_datetime_type:56|Column flags for timezone or precision are not yet supported in this destination. One or both of these flags were used in column 'pickup_datetime'. in table 'fhv_taxi'.\n",
      "2025-02-24 00:08:57,859|[WARNING]|49993|8438220864|dlt|type_mapping.py|to_db_datetime_type:56|Column flags for timezone or precision are not yet supported in this destination. One or both of these flags were used in column 'drop_off_datetime'. in table 'fhv_taxi'.\n",
      "2025-02-24 00:08:57,860|[WARNING]|49993|8438220864|dlt|type_mapping.py|to_db_datetime_type:56|Column flags for timezone or precision are not yet supported in this destination. One or both of these flags were used in column 'lpep_pickup_datetime'. in table 'green_taxi'.\n",
      "2025-02-24 00:08:57,860|[WARNING]|49993|8438220864|dlt|type_mapping.py|to_db_datetime_type:56|Column flags for timezone or precision are not yet supported in this destination. One or both of these flags were used in column 'lpep_dropoff_datetime'. in table 'green_taxi'.\n"
     ]
    },
    {
     "name": "stdout",
     "output_type": "stream",
     "text": [
      "Pipeline github_issues load step completed in 1 minute and 34.48 seconds\n",
      "1 load package(s) were loaded to destination bigquery and into dataset github_data\n",
      "The bigquery destination used de-zoomcamp-module-1@lofty-hybrid-448518-c8.iam.gserviceaccount.com@lofty-hybrid-448518-c8 location to store data\n",
      "Load package 1740348517.5967438 is LOADED and contains no failed jobs\n"
     ]
    }
   ],
   "source": [
    "import dlt\n",
    "from dlt.sources.helpers.rest_client import RESTClient\n",
    "import requests\n",
    "import pandas as pd\n",
    "\n",
    "github_client = RESTClient(base_url=\"http://github.com/DataTalksClub/nyc-tlc-data/releases/download/green/\")\n",
    "\n",
    "\n",
    "!pip3 install certifi\n",
    "'''\n",
    "@dlt.resource\n",
    "def hubspot():\n",
    "    for row in pd.read_csv(github_client.base_url + \"green_tripdata_2019-01.csv.gz\", \n",
    "                           compression='gzip', header=0, sep=' '):\n",
    "        yield row\n",
    "\n",
    "'''\n",
    "'''\n",
    "@dlt.resource\n",
    "def hubspot():\n",
    "    for row in pd.read_table(r'https://github.com/DataTalksClub/nyc-tlc-data/releases/download/green/green_tripdata_2019-01.csv.gz'):\n",
    "        yield row\n",
    "'''\n",
    "\n",
    "!pip3 install pip-system-certs==4.0.0\n",
    "\n",
    "!source '/Applications/Python 3.12/Install Certificates.command'\n",
    "\n",
    "base_url = 'https://github.com/DataTalksClub/nyc-tlc-data/releases/download/'\n",
    "type_of_taxi_= ['green', 'yellow', 'fhv']\n",
    "years_for_query = ['2019', '2020']\n",
    "months_for_query = ['01', '02', '03', '04', '05', '06', '07', '08', '09', '10', '11', '12']\n",
    "file_name = f'green_tripdata_2019-01.csv.gz'\n",
    "\n",
    "@dlt.resource\n",
    "def hubspot(taxi, year, month):\n",
    "    type_of_taxi = taxi\n",
    "    url = base_url + type_of_taxi + '/' + type_of_taxi + '_tripdata_' + year + '-' + month + '.csv.gz'\n",
    "    print('downloading ' + url)\n",
    "    s = requests.get(url, verify=True)\n",
    "    if taxi=='green' or taxi=='yellow':\n",
    "        c = pd.read_csv(url, compression='gzip',\n",
    "                    dtype={\n",
    "                'VendorID': 'Int64',\n",
    "                'lpep_pickup_datetime': 'str',\n",
    "                'lpep_dropoff_datetime': 'str',\n",
    "                'store_and_fwd_flag': 'str',\n",
    "                'RatecodeID': 'Int64',\n",
    "                'PULocationID': 'str',\n",
    "                'DOLocationID': 'str',\n",
    "                'passenger_count': 'Int64',\n",
    "                'trip_distance': 'float64',\n",
    "                'fare_amount': 'float64',\n",
    "                'extra': 'float64',\n",
    "                'mta_tax': 'float64',\n",
    "                'tip_amount': 'float64',\n",
    "                'tolls_amount': 'float64',\n",
    "                'ehail_fee': 'float64',\n",
    "                'improvement_surcharge': 'float64',\n",
    "                'total_amount': 'float64',\n",
    "                'payment_type': 'Int64',\n",
    "                'trip_type': 'Int64',\n",
    "                'congestion_surcharge': 'float64'}\n",
    "                        )\n",
    "    if taxi=='fhv':\n",
    "        c = pd.read_csv(url, compression='gzip',\n",
    "                    dtype={\n",
    "                'dispatching_base_num': 'str',\n",
    "                'pickup_datetime': 'str',\n",
    "                'dropOff_datetime': 'str',\n",
    "                'PUlocationID': 'str',\n",
    "                'DOlocationID': 'str',\n",
    "                'SR_Flag': 'str',\n",
    "                'Affiliated_base_number': 'str'})\n",
    "\n",
    "        c.pickup_datetime =  pd.to_datetime(c.pickup_datetime)\n",
    "        c.dropOff_datetime = pd.to_datetime(c.dropOff_datetime) \n",
    "        c.PUlocationID = c.PUlocationID.astype('str')\n",
    "        c.DOlocationID = c.DOlocationID.astype('str')  \n",
    "\n",
    "    if taxi=='green':\n",
    "        c.lpep_pickup_datetime =  pd.to_datetime(c.lpep_pickup_datetime)\n",
    "        c.lpep_dropoff_datetime = pd.to_datetime(c.lpep_dropoff_datetime)  \n",
    "\n",
    "    elif taxi=='yellow':\n",
    "        c.tpep_pickup_datetime =  pd.to_datetime(c.tpep_pickup_datetime)\n",
    "        c.tpep_dropoff_datetime = pd.to_datetime(c.tpep_dropoff_datetime) \n",
    "    yield c   \n",
    "\n",
    "@dlt.resource\n",
    "def hubspot_yellow():\n",
    "    type_of_taxi = type_of_taxi_[1]\n",
    "    for year in years_for_query:\n",
    "        for month in months_for_query:\n",
    "            url = base_url + type_of_taxi + '/' + type_of_taxi + '_tripdata_' + year + '-' + month + '.csv.gz'\n",
    "            print('downloading ' + url)\n",
    "            s = requests.get(url, verify=True)\n",
    "            c = pd.read_csv(url, compression='gzip')\n",
    "            c.lpep_pickup_datetime =  pd.to_datetime(c.lpep_pickup_datetime)\n",
    "            c.lpep_dropoff_datetime = pd.to_datetime(c.lpep_dropoff_datetime)   \n",
    "            yield c  \n",
    "\n",
    "@dlt.resource\n",
    "def hubspot_fhv():\n",
    "    type_of_taxi = type_of_taxi_[2]\n",
    "    year = years_for_query[0]\n",
    "    for month in months_for_query:\n",
    "        url = base_url + type_of_taxi + '/' + type_of_taxi + '_tripdata_' + year + '-' + month + '.csv.gz'\n",
    "        print('downloading ' + url)\n",
    "        s = requests.get(url, verify=True)\n",
    "        c = pd.read_csv(url, compression='gzip')              \n",
    "        c.pickup_datetime = pd.to_datetime(c.pickup_datetime)\n",
    "        c.dropoff_datetime = pd.to_datetime(c.dropoff_datetime)\n",
    "        yield c\n",
    "'''\n",
    "    url = r\"https://github.com/DataTalksClub/nyc-tlc-data/releases/download/green/green_tripdata_2019-01.csv.gz\"\n",
    "    s = requests.get(url, verify=True)\n",
    "    c = pd.read_csv(url, compression='gzip')\n",
    "    c.lpep_pickup_datetime =  pd.to_datetime(c.lpep_pickup_datetime)\n",
    "    c.lpep_dropoff_datetime = pd.to_datetime(c.lpep_dropoff_datetime)\n",
    "    yield c\n",
    "'''  \n",
    "\n",
    "pipeline = dlt.pipeline(\n",
    "    pipeline_name=\"github_issues\",\n",
    "    destination=\"bigquery\",\n",
    "    dataset_name=\"github_data\"\n",
    ")\n",
    "\n",
    "#for year in years_for_query:\n",
    "#    for month in months_for_query:\n",
    "#        load_info = pipeline.run(hubspot('green', year, month), table_name=\"green_taxi\")\n",
    "\n",
    "#for year in years_for_query:\n",
    "#    for month in months_for_query:\n",
    "#        load_info = pipeline.run(hubspot('yellow', year, month), table_name=\"yellow_taxi\")\n",
    "\n",
    "year = '2019'\n",
    "for month in months_for_query:\n",
    "    load_info = pipeline.run(hubspot('fhv', year, month), table_name=\"fhv\")\n",
    "\n",
    "\n",
    "print(load_info)"
   ]
  },
  {
   "cell_type": "code",
   "execution_count": null,
   "id": "b3e2a81d",
   "metadata": {},
   "outputs": [],
   "source": []
  },
  {
   "cell_type": "code",
   "execution_count": null,
   "id": "410b2636",
   "metadata": {},
   "outputs": [],
   "source": [
    "!pip3 pandas --version"
   ]
  },
  {
   "cell_type": "code",
   "execution_count": null,
   "id": "55ef143e",
   "metadata": {},
   "outputs": [],
   "source": [
    "import pandas as pd\n",
    "pd.__version__"
   ]
  },
  {
   "cell_type": "code",
   "execution_count": null,
   "id": "c4e5b34a",
   "metadata": {},
   "outputs": [],
   "source": []
  }
 ],
 "metadata": {
  "kernelspec": {
   "display_name": "Python 3 (ipykernel)",
   "language": "python",
   "name": "python3"
  },
  "language_info": {
   "codemirror_mode": {
    "name": "ipython",
    "version": 3
   },
   "file_extension": ".py",
   "mimetype": "text/x-python",
   "name": "python",
   "nbconvert_exporter": "python",
   "pygments_lexer": "ipython3",
   "version": "3.12.4"
  }
 },
 "nbformat": 4,
 "nbformat_minor": 5
}
